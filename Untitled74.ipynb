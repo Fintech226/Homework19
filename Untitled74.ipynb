{
 "cells": [
  {
   "cell_type": "code",
   "execution_count": null,
   "id": "5790d807-d334-4133-94be-1794321e5ff2",
   "metadata": {},
   "outputs": [],
   "source": [
    "import streamlit as st\n",
    "from dataclasses import dataclass\n",
    "from typing import Any, List\n",
    "from web3 import Web3\n",
    "\n",
    "w3 = Web3(Web3.HTTPProvider(\"HTTP://127.0.0.1:7545\"))\n"
   ]
  },
  {
   "cell_type": "code",
   "execution_count": null,
   "id": "87de25bc-de49-4cb2-90be-1a2916927aba",
   "metadata": {},
   "outputs": [],
   "source": [
    "import generate_account() from crypto_wallet\n",
    "import get_balance(w3,address) from crypto_wallet\n",
    "import send_transaction(w3,account,to,wage) from crypto_wallet"
   ]
  },
  {
   "cell_type": "code",
   "execution_count": null,
   "id": "a11d7763-5d8d-4f8c-9357-a1d10200f9e5",
   "metadata": {},
   "outputs": [],
   "source": [
    "candidate_database = {\n",
    "    \"Lane\": [\n",
    "        \"Lane\",\n",
    "        \"0xaC8eB8B2ed5C4a0fC41a84Ee4950F417f67029F0\",\n",
    "        \"4.3\",\n",
    "        0.20,\n",
    "        \"Images/lane.jpeg\",\n",
    "    ],\n",
    "    \"Ash\": [\n",
    "        \"Ash\",\n",
    "        \"0x2422858F9C4480c2724A309D58Ffd7Ac8bF65396\",\n",
    "        \"5.0\",\n",
    "        0.33,\n",
    "        \"Images/ash.jpeg\",\n",
    "    ],\n",
    "    \"Jo\": [\n",
    "        \"Jo\",\n",
    "        \"0x8fD00f170FDf3772C5ebdCD90bF257316c69BA45\",\n",
    "        \"4.7\",\n",
    "        0.19,\n",
    "        \"Images/jo.jpeg\",\n",
    "    ],\n",
    "    \"Kendall\": [\n",
    "        \"Kendall\",\n",
    "        \"0x8fD00f170FDf3772C5ebdCD90bF257316c69BA45\",\n",
    "        \"4.1\",\n",
    "        0.16,\n",
    "        \"Images/kendall.jpeg\",\n",
    "    ],\n",
    "}\n",
    "\n",
    "# A list of the KryptoJobs2Go candidates first names\n",
    "people = [\"Lane\", \"Ash\", \"Jo\", \"Kendall\"]\n",
    "\n",
    "\n",
    "def get_people():\n",
    "    \"\"\"Display the database of KryptoJobs2Go candidate information.\"\"\"\n",
    "    db_list = list(candidate_database.values())\n",
    "\n",
    "    for number in range(len(people)):\n",
    "        st.image(db_list[number][4], width=200)\n",
    "        st.write(\"Name: \", db_list[number][0])\n",
    "        st.write(\"Ethereum Account Address: \", db_list[number][1])\n",
    "        st.write(\"KryptoJobs2Go Rating: \", db_list[number][2])\n",
    "        st.write(\"Hourly Rate per Ether: \", db_list[number][3], \"eth\")\n",
    "        st.text(\" \\n\")\n",
    "\n",
    "\n",
    "################################################################################\n",
    "# Streamlit Code\n",
    "\n",
    "# Streamlit application headings\n",
    "st.markdown(\"# KryptoJobs2Go!\")\n",
    "st.markdown(\"## Hire A Fintech Professional!\")\n",
    "st.text(\" \\n\")\n"
   ]
  },
  {
   "cell_type": "code",
   "execution_count": 1,
   "id": "e617c1b4-ffb8-4bd2-89b6-02c5e04e7d88",
   "metadata": {},
   "outputs": [
    {
     "ename": "NameError",
     "evalue": "name 'st' is not defined",
     "output_type": "error",
     "traceback": [
      "\u001b[1;31m---------------------------------------------------------------------------\u001b[0m",
      "\u001b[1;31mNameError\u001b[0m                                 Traceback (most recent call last)",
      "\u001b[1;32m~\\AppData\\Local\\Temp\\ipykernel_11040\\1263971783.py\u001b[0m in \u001b[0;36m<module>\u001b[1;34m\u001b[0m\n\u001b[1;32m----> 1\u001b[1;33m \u001b[0mst\u001b[0m\u001b[1;33m.\u001b[0m\u001b[0msidebar\u001b[0m\u001b[1;33m.\u001b[0m\u001b[0mmarkdown\u001b[0m\u001b[1;33m(\u001b[0m\u001b[1;34m\"## Client Account Address and Ethernet Balance in Ether\"\u001b[0m\u001b[1;33m)\u001b[0m\u001b[1;33m\u001b[0m\u001b[1;33m\u001b[0m\u001b[0m\n\u001b[0m",
      "\u001b[1;31mNameError\u001b[0m: name 'st' is not defined"
     ]
    }
   ],
   "source": [
    "st.sidebar.markdown(\"## Client Account Address and Ethernet Balance in Ether\")"
   ]
  },
  {
   "cell_type": "code",
   "execution_count": null,
   "id": "3e41de97-49c3-404b-ba6b-750ebd812785",
   "metadata": {},
   "outputs": [],
   "source": [
    "st.sidebar.markdown\n",
    "acount=generate_account()\n",
    "st.sidebar.write(account.address)\n",
    "st.sidebar.markdown\n",
    "candidate=candidate_database(person][a]\n",
    "hourly_rate=candidate_database[person][a]\n",
    "st.sidebar                             "
   ]
  },
  {
   "cell_type": "code",
   "execution_count": null,
   "id": "57388502-5fbd-431b-8a10-54ea75295063",
   "metadata": {},
   "outputs": [],
   "source": [
    "wage=candidate_database[person][3]=hours\n",
    "st.sidebar.write(wage)\n",
    "if st.sidebar.button(\"Send Transaction\")\n",
    "transaction_hash_send_transaction(w3,account,Candiadate_database,wage)\n"
   ]
  },
  {
   "cell_type": "code",
   "execution_count": null,
   "id": "64fab89e-6af1-4821-904d-eb1634e65731",
   "metadata": {},
   "outputs": [],
   "source": [
    "if st.sidebar.button(\"Send Transaction\"):\n",
    "     st.sidebar.markdown(\"#### Validated Transaction Hash\")\n",
    "    st.sidebar.write(transaction_hash)\n",
    "    st.balloons()\n",
    "\n"
   ]
  }
 ],
 "metadata": {
  "kernelspec": {
   "display_name": "Python 3 (ipykernel)",
   "language": "python",
   "name": "python3"
  },
  "language_info": {
   "codemirror_mode": {
    "name": "ipython",
    "version": 3
   },
   "file_extension": ".py",
   "mimetype": "text/x-python",
   "name": "python",
   "nbconvert_exporter": "python",
   "pygments_lexer": "ipython3",
   "version": "3.9.13"
  }
 },
 "nbformat": 4,
 "nbformat_minor": 5
}
